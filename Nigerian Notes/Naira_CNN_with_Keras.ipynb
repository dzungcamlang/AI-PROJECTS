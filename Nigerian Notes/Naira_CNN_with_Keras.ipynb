{
 "cells": [
  {
   "cell_type": "markdown",
   "metadata": {
    "colab_type": "text",
    "id": "L-TBFTY9PP24"
   },
   "source": [
    "# Image Classification of Naira notes using Keras "
   ]
  },
  {
   "cell_type": "code",
   "execution_count": 25,
   "metadata": {
    "colab": {
     "autoexec": {
      "startup": false,
      "wait_interval": 0
     },
     "base_uri": "https://localhost:8080/",
     "height": 34
    },
    "colab_type": "code",
    "executionInfo": {
     "elapsed": 685,
     "status": "ok",
     "timestamp": 1524206377636,
     "user": {
      "displayName": "Kenechi Dukor",
      "photoUrl": "https://lh3.googleusercontent.com/a/default-user=s128",
      "userId": "106952510859934020651"
     },
     "user_tz": -60
    },
    "id": "QTT9vh2V3wOI",
    "outputId": "f7552f39-1dae-43ea-b866-234d7ec4a226"
   },
   "outputs": [
    {
     "data": {
      "text/plain": [
       "'/device:GPU:0'"
      ]
     },
     "execution_count": 25,
     "metadata": {
      "tags": []
     },
     "output_type": "execute_result"
    }
   ],
   "source": [
    "import tensorflow as tf\n",
    "tf.test.gpu_device_name()"
   ]
  },
  {
   "cell_type": "code",
   "execution_count": 0,
   "metadata": {
    "colab": {
     "autoexec": {
      "startup": false,
      "wait_interval": 0
     }
    },
    "colab_type": "code",
    "collapsed": true,
    "id": "keAi-R3-c3Xf"
   },
   "outputs": [],
   "source": [
    "!pip install -U -q PyDrive\n",
    " \n",
    "from pydrive.auth import GoogleAuth\n",
    "from pydrive.drive import GoogleDrive\n",
    "from google.colab import auth\n",
    "from oauth2client.client import GoogleCredentials"
   ]
  },
  {
   "cell_type": "code",
   "execution_count": 0,
   "metadata": {
    "colab": {
     "autoexec": {
      "startup": false,
      "wait_interval": 0
     }
    },
    "colab_type": "code",
    "collapsed": true,
    "id": "upx3iPmlc3fW"
   },
   "outputs": [],
   "source": [
    "# 1. Authenticate and create the PyDrive client.\n",
    "auth.authenticate_user()\n",
    "gauth = GoogleAuth()\n",
    "gauth.credentials = GoogleCredentials.get_application_default()\n",
    "drive = GoogleDrive(gauth)"
   ]
  },
  {
   "cell_type": "code",
   "execution_count": 9,
   "metadata": {
    "colab": {
     "autoexec": {
      "startup": false,
      "wait_interval": 0
     },
     "base_uri": "https://localhost:8080/",
     "height": 34
    },
    "colab_type": "code",
    "executionInfo": {
     "elapsed": 1074,
     "status": "ok",
     "timestamp": 1524206069441,
     "user": {
      "displayName": "Kenechi Dukor",
      "photoUrl": "https://lh3.googleusercontent.com/a/default-user=s128",
      "userId": "106952510859934020651"
     },
     "user_tz": -60
    },
    "id": "8rOFUcjMcYZT",
    "outputId": "5fe779b3-ccf7-47cd-c1c7-907fe9ba3c65"
   },
   "outputs": [
    {
     "name": "stdout",
     "output_type": "stream",
     "text": [
      "title: Currencydata.zip, id: 1Elicap2WQ_EDO7weOrY7wtbh8SjU6mN-\n"
     ]
    }
   ],
   "source": [
    "# This code assumes your CSV files are in a folder. It will print out the files in a folder and their unique identifiers which will be used below. \n",
    "# Replace <FOLDER ID> with the long string of numbers and letters in the URL of the folder in Google Drive. \n",
    "# If the files are located at the top level of Google Drive, replace <FOLDER ID> with ‘root’. The output should look like:\n",
    "\n",
    "file_list = drive.ListFile({'q': \"'1fnLoyJx-NIVXRu1MGOQ3T8T6H2pjLyfP' in parents and trashed=false\"}).GetList()\n",
    "for file1 in file_list:\n",
    "  print('title: %s, id: %s' % (file1['title'], file1['id']))"
   ]
  },
  {
   "cell_type": "code",
   "execution_count": 0,
   "metadata": {
    "colab": {
     "autoexec": {
      "startup": false,
      "wait_interval": 0
     }
    },
    "colab_type": "code",
    "collapsed": true,
    "id": "E_J06I8UgPaE"
   },
   "outputs": [],
   "source": [
    "dataset = drive.CreateFile({'id': '1Elicap2WQ_EDO7weOrY7wtbh8SjU6mN-'})\n",
    "dataset.GetContentFile('Currencydata.zip')"
   ]
  },
  {
   "cell_type": "code",
   "execution_count": 14,
   "metadata": {
    "colab": {
     "autoexec": {
      "startup": false,
      "wait_interval": 0
     },
     "base_uri": "https://localhost:8080/",
     "height": 34
    },
    "colab_type": "code",
    "executionInfo": {
     "elapsed": 2075,
     "status": "ok",
     "timestamp": 1524206094289,
     "user": {
      "displayName": "Kenechi Dukor",
      "photoUrl": "https://lh3.googleusercontent.com/a/default-user=s128",
      "userId": "106952510859934020651"
     },
     "user_tz": -60
    },
    "id": "xrPZBplAggDO",
    "outputId": "29cc2507-2bb5-48b6-9305-49f229ebbe25"
   },
   "outputs": [
    {
     "name": "stdout",
     "output_type": "stream",
     "text": [
      "model  sample  test1  train  valid\r\n"
     ]
    }
   ],
   "source": [
    "!ls dataset/data/nigerianCurrencies"
   ]
  },
  {
   "cell_type": "code",
   "execution_count": 13,
   "metadata": {
    "colab": {
     "autoexec": {
      "startup": false,
      "wait_interval": 0
     },
     "base_uri": "https://localhost:8080/",
     "height": 12728
    },
    "colab_type": "code",
    "executionInfo": {
     "elapsed": 3641,
     "status": "ok",
     "timestamp": 1524206086574,
     "user": {
      "displayName": "Kenechi Dukor",
      "photoUrl": "https://lh3.googleusercontent.com/a/default-user=s128",
      "userId": "106952510859934020651"
     },
     "user_tz": -60
    },
    "id": "ppjleu2KgegB",
    "outputId": "ac208e18-69ba-4726-a58e-b9e81e96f666"
   },
   "outputs": [
    {
     "name": "stdout",
     "output_type": "stream",
     "text": [
      "Archive:  Currencydata.zip\r\n",
      "   creating: dataset/data/\r\n",
      "   creating: dataset/data/nigerianCurrencies/\r\n",
      "   creating: dataset/data/nigerianCurrencies/model/\r\n",
      "   creating: dataset/data/nigerianCurrencies/sample/\r\n",
      "   creating: dataset/data/nigerianCurrencies/sample/train/\r\n",
      "   creating: dataset/data/nigerianCurrencies/sample/train/N10/\r\n",
      "  inflating: dataset/data/nigerianCurrencies/sample/train/N10/01.jpg  \r\n",
      "  inflating: dataset/data/nigerianCurrencies/sample/train/N10/02.jpg  \r\n",
      "  inflating: dataset/data/nigerianCurrencies/sample/train/N10/03.jpg  \r\n",
      "  inflating: dataset/data/nigerianCurrencies/sample/train/N10/04.jpg  \r\n",
      "  inflating: dataset/data/nigerianCurrencies/sample/train/N10/05.jpg  \r\n",
      "  inflating: dataset/data/nigerianCurrencies/sample/train/N10/06.jpg  \r\n",
      "  inflating: dataset/data/nigerianCurrencies/sample/train/N10/08.jpg  \r\n",
      "  inflating: dataset/data/nigerianCurrencies/sample/train/N10/21.jpg  \r\n",
      "  inflating: dataset/data/nigerianCurrencies/sample/train/N10/22.jpg  \r\n",
      "  inflating: dataset/data/nigerianCurrencies/sample/train/N10/23.jpg  \r\n",
      "  inflating: dataset/data/nigerianCurrencies/sample/train/N10/24.jpg  \r\n",
      "  inflating: dataset/data/nigerianCurrencies/sample/train/N10/25.jpg  \r\n",
      "  inflating: dataset/data/nigerianCurrencies/sample/train/N10/26.jpg  \r\n",
      "  inflating: dataset/data/nigerianCurrencies/sample/train/N10/27.jpg  \r\n",
      "  inflating: dataset/data/nigerianCurrencies/sample/train/N10/28.jpg  \r\n",
      "  inflating: dataset/data/nigerianCurrencies/sample/train/N10/29.jpg  \r\n",
      "  inflating: dataset/data/nigerianCurrencies/sample/train/N10/30.jpg  \r\n",
      "  inflating: dataset/data/nigerianCurrencies/sample/train/N10/31.jpg  \r\n",
      "  inflating: dataset/data/nigerianCurrencies/sample/train/N10/32.jpg  \r\n",
      "  inflating: dataset/data/nigerianCurrencies/sample/train/N10/4.jpg  \r\n",
      "   creating: dataset/data/nigerianCurrencies/sample/train/N100/\r\n",
      "  inflating: dataset/data/nigerianCurrencies/sample/train/N100/01.jpg  \r\n",
      "  inflating: dataset/data/nigerianCurrencies/sample/train/N100/02.jpg  \r\n",
      "  inflating: dataset/data/nigerianCurrencies/sample/train/N100/03.jpg  \r\n",
      "  inflating: dataset/data/nigerianCurrencies/sample/train/N100/04.jpg  \r\n",
      "  inflating: dataset/data/nigerianCurrencies/sample/train/N100/05.jpg  \r\n",
      "  inflating: dataset/data/nigerianCurrencies/sample/train/N100/06.jpg  \r\n",
      "  inflating: dataset/data/nigerianCurrencies/sample/train/N100/07.jpg  \r\n",
      "  inflating: dataset/data/nigerianCurrencies/sample/train/N100/08.jpg  \r\n",
      "  inflating: dataset/data/nigerianCurrencies/sample/train/N100/09.jpg  \r\n",
      "  inflating: dataset/data/nigerianCurrencies/sample/train/N100/10.jpg  \r\n",
      "  inflating: dataset/data/nigerianCurrencies/sample/train/N100/11.jpg  \r\n",
      "  inflating: dataset/data/nigerianCurrencies/sample/train/N100/12.jpg  \r\n",
      "  inflating: dataset/data/nigerianCurrencies/sample/train/N100/13.jpg  \r\n",
      "  inflating: dataset/data/nigerianCurrencies/sample/train/N100/14.jpg  \r\n",
      "  inflating: dataset/data/nigerianCurrencies/sample/train/N100/15.jpg  \r\n",
      "  inflating: dataset/data/nigerianCurrencies/sample/train/N100/16.jpg  \r\n",
      "  inflating: dataset/data/nigerianCurrencies/sample/train/N100/18.jpg  \r\n",
      "  inflating: dataset/data/nigerianCurrencies/sample/train/N100/20.jpg  \r\n",
      "  inflating: dataset/data/nigerianCurrencies/sample/train/N100/29.jpg  \r\n",
      "  inflating: dataset/data/nigerianCurrencies/sample/train/N100/30.jpg  \r\n",
      "   creating: dataset/data/nigerianCurrencies/sample/train/N1000/\r\n",
      "  inflating: dataset/data/nigerianCurrencies/sample/train/N1000/01.jpg  \r\n",
      "  inflating: dataset/data/nigerianCurrencies/sample/train/N1000/02.jpg  \r\n",
      "  inflating: dataset/data/nigerianCurrencies/sample/train/N1000/03.jpg  \r\n",
      "  inflating: dataset/data/nigerianCurrencies/sample/train/N1000/04.jpg  \r\n",
      "  inflating: dataset/data/nigerianCurrencies/sample/train/N1000/05.jpg  \r\n",
      "  inflating: dataset/data/nigerianCurrencies/sample/train/N1000/07.jpg  \r\n",
      "  inflating: dataset/data/nigerianCurrencies/sample/train/N1000/08.jpg  \n",
      "  inflating: dataset/data/nigerianCurrencies/sample/train/N1000/09.jpg  \n",
      "  inflating: dataset/data/nigerianCurrencies/sample/train/N1000/10.jpg  \n",
      "  inflating: dataset/data/nigerianCurrencies/sample/train/N1000/11.jpg  \n",
      "  inflating: dataset/data/nigerianCurrencies/sample/train/N1000/12.jpg  \n",
      "  inflating: dataset/data/nigerianCurrencies/sample/train/N1000/13.jpg  \n",
      "  inflating: dataset/data/nigerianCurrencies/sample/train/N1000/14.jpg  \n",
      "  inflating: dataset/data/nigerianCurrencies/sample/train/N1000/15.jpg  \n",
      "  inflating: dataset/data/nigerianCurrencies/sample/train/N1000/16.jpg  \n",
      "  inflating: dataset/data/nigerianCurrencies/sample/train/N1000/17.jpg  \n",
      "  inflating: dataset/data/nigerianCurrencies/sample/train/N1000/18.jpg  \n",
      "  inflating: dataset/data/nigerianCurrencies/sample/train/N1000/19.jpg  \n",
      "  inflating: dataset/data/nigerianCurrencies/sample/train/N1000/31.jpg  \n",
      "  inflating: dataset/data/nigerianCurrencies/sample/train/N1000/32.jpg  \n",
      "   creating: dataset/data/nigerianCurrencies/sample/train/N20/\n",
      "  inflating: dataset/data/nigerianCurrencies/sample/train/N20/01.jpg  \n",
      "  inflating: dataset/data/nigerianCurrencies/sample/train/N20/010.jpg  \n",
      "  inflating: dataset/data/nigerianCurrencies/sample/train/N20/02.jpg  \n",
      "  inflating: dataset/data/nigerianCurrencies/sample/train/N20/03.jpg  \n",
      "  inflating: dataset/data/nigerianCurrencies/sample/train/N20/04.gif  \n",
      "  inflating: dataset/data/nigerianCurrencies/sample/train/N20/05.jpg  \n",
      "  inflating: dataset/data/nigerianCurrencies/sample/train/N20/06.jpg  \n",
      "  inflating: dataset/data/nigerianCurrencies/sample/train/N20/07.jpg  \n",
      "  inflating: dataset/data/nigerianCurrencies/sample/train/N20/08.jpg  \n",
      "  inflating: dataset/data/nigerianCurrencies/sample/train/N20/09.jpg  \n",
      "  inflating: dataset/data/nigerianCurrencies/sample/train/N20/11.jpg  \n",
      "  inflating: dataset/data/nigerianCurrencies/sample/train/N20/12.jpg  \n",
      "  inflating: dataset/data/nigerianCurrencies/sample/train/N20/13.jpg  \n",
      "  inflating: dataset/data/nigerianCurrencies/sample/train/N20/14.jpg  \n",
      "  inflating: dataset/data/nigerianCurrencies/sample/train/N20/16.jpg  \n",
      "  inflating: dataset/data/nigerianCurrencies/sample/train/N20/17.jpg  \n",
      "  inflating: dataset/data/nigerianCurrencies/sample/train/N20/18.jpg  \n",
      "  inflating: dataset/data/nigerianCurrencies/sample/train/N20/19.jpg  \n",
      "  inflating: dataset/data/nigerianCurrencies/sample/train/N20/20.jpg  \n",
      "  inflating: dataset/data/nigerianCurrencies/sample/train/N20/32.jpg  \n",
      "   creating: dataset/data/nigerianCurrencies/sample/train/N200/\n",
      "  inflating: dataset/data/nigerianCurrencies/sample/train/N200/01.jpg  \n",
      "  inflating: dataset/data/nigerianCurrencies/sample/train/N200/02.JPG  \n",
      "  inflating: dataset/data/nigerianCurrencies/sample/train/N200/03.jpg  \n",
      "  inflating: dataset/data/nigerianCurrencies/sample/train/N200/04.jpg  \n",
      "  inflating: dataset/data/nigerianCurrencies/sample/train/N200/05.jpg  \n",
      "  inflating: dataset/data/nigerianCurrencies/sample/train/N200/06.jpg  \n",
      "  inflating: dataset/data/nigerianCurrencies/sample/train/N200/07.jpg  \n",
      "  inflating: dataset/data/nigerianCurrencies/sample/train/N200/08.jpg  \n",
      "  inflating: dataset/data/nigerianCurrencies/sample/train/N200/09.jpg  \n",
      "  inflating: dataset/data/nigerianCurrencies/sample/train/N200/10.jpg  \n",
      "  inflating: dataset/data/nigerianCurrencies/sample/train/N200/11.jpg  \n",
      "  inflating: dataset/data/nigerianCurrencies/sample/train/N200/12.jpg  \n",
      "  inflating: dataset/data/nigerianCurrencies/sample/train/N200/15.jpg  \n",
      "  inflating: dataset/data/nigerianCurrencies/sample/train/N200/16.jpg  \n",
      "  inflating: dataset/data/nigerianCurrencies/sample/train/N200/17.jpg  \n",
      "  inflating: dataset/data/nigerianCurrencies/sample/train/N200/21.jpg  \n",
      "  inflating: dataset/data/nigerianCurrencies/sample/train/N200/22.jpg  \n",
      "  inflating: dataset/data/nigerianCurrencies/sample/train/N200/30.jpg  \n",
      "  inflating: dataset/data/nigerianCurrencies/sample/train/N200/31.jpg  \n",
      "  inflating: dataset/data/nigerianCurrencies/sample/train/N200/32.jpg  \n",
      "   creating: dataset/data/nigerianCurrencies/sample/train/N5/\n",
      "  inflating: dataset/data/nigerianCurrencies/sample/train/N5/01.jpg  \n",
      "  inflating: dataset/data/nigerianCurrencies/sample/train/N5/03.jpg  \n",
      "  inflating: dataset/data/nigerianCurrencies/sample/train/N5/04.jpg  \n",
      "  inflating: dataset/data/nigerianCurrencies/sample/train/N5/05.jpg  \n",
      "  inflating: dataset/data/nigerianCurrencies/sample/train/N5/07.jpg  \n",
      "  inflating: dataset/data/nigerianCurrencies/sample/train/N5/08.jpg  \n",
      "  inflating: dataset/data/nigerianCurrencies/sample/train/N5/09.jpg  \n",
      "  inflating: dataset/data/nigerianCurrencies/sample/train/N5/10.jpg  \n",
      "  inflating: dataset/data/nigerianCurrencies/sample/train/N5/11.jpg  \n",
      "  inflating: dataset/data/nigerianCurrencies/sample/train/N5/12.jpg  \n",
      "  inflating: dataset/data/nigerianCurrencies/sample/train/N5/13.jpg  \n",
      "  inflating: dataset/data/nigerianCurrencies/sample/train/N5/14.jpg  \n",
      "  inflating: dataset/data/nigerianCurrencies/sample/train/N5/15.jpg  \n",
      "  inflating: dataset/data/nigerianCurrencies/sample/train/N5/16.jpg  \n",
      "  inflating: dataset/data/nigerianCurrencies/sample/train/N5/17.jpg  \n",
      "  inflating: dataset/data/nigerianCurrencies/sample/train/N5/18.jpg  \n",
      "  inflating: dataset/data/nigerianCurrencies/sample/train/N5/19.jpg  \n",
      "  inflating: dataset/data/nigerianCurrencies/sample/train/N5/20.jpg  \n",
      "  inflating: dataset/data/nigerianCurrencies/sample/train/N5/31.jpg  \n",
      "  inflating: dataset/data/nigerianCurrencies/sample/train/N5/32.jpg  \n",
      "   creating: dataset/data/nigerianCurrencies/sample/train/N50/\n",
      "  inflating: dataset/data/nigerianCurrencies/sample/train/N50/01.jpg  \n",
      "  inflating: dataset/data/nigerianCurrencies/sample/train/N50/02.jpg  \n",
      "  inflating: dataset/data/nigerianCurrencies/sample/train/N50/03.jpg  \n",
      "  inflating: dataset/data/nigerianCurrencies/sample/train/N50/04.jpg  \n",
      "  inflating: dataset/data/nigerianCurrencies/sample/train/N50/07.jpg  \n",
      "  inflating: dataset/data/nigerianCurrencies/sample/train/N50/08.jpg  \n",
      "  inflating: dataset/data/nigerianCurrencies/sample/train/N50/09.jpg  \n",
      "  inflating: dataset/data/nigerianCurrencies/sample/train/N50/10.jpg  \n",
      "  inflating: dataset/data/nigerianCurrencies/sample/train/N50/21.jpeg  \n",
      "  inflating: dataset/data/nigerianCurrencies/sample/train/N50/22.jpeg  \n",
      "  inflating: dataset/data/nigerianCurrencies/sample/train/N50/23.jpg  \n",
      "  inflating: dataset/data/nigerianCurrencies/sample/train/N50/24.jpg  \n",
      "  inflating: dataset/data/nigerianCurrencies/sample/train/N50/25.jpg  \n",
      "  inflating: dataset/data/nigerianCurrencies/sample/train/N50/26.jpg  \n",
      "  inflating: dataset/data/nigerianCurrencies/sample/train/N50/27.jpeg  \n",
      "  inflating: dataset/data/nigerianCurrencies/sample/train/N50/28.jpg  \n",
      "  inflating: dataset/data/nigerianCurrencies/sample/train/N50/29.jpeg  \n",
      "  inflating: dataset/data/nigerianCurrencies/sample/train/N50/30.jpeg  \n",
      "  inflating: dataset/data/nigerianCurrencies/sample/train/N50/31.jpg  \n",
      "  inflating: dataset/data/nigerianCurrencies/sample/train/N50/32.jpg  \n",
      "   creating: dataset/data/nigerianCurrencies/sample/train/N500/\n",
      "  inflating: dataset/data/nigerianCurrencies/sample/train/N500/01.jpg  \n",
      "  inflating: dataset/data/nigerianCurrencies/sample/train/N500/02.jpg  \n",
      "  inflating: dataset/data/nigerianCurrencies/sample/train/N500/03.jpg  \n",
      "  inflating: dataset/data/nigerianCurrencies/sample/train/N500/04.jpg  \n",
      "  inflating: dataset/data/nigerianCurrencies/sample/train/N500/05.jpg  \n",
      "  inflating: dataset/data/nigerianCurrencies/sample/train/N500/08.jpg  \n",
      "  inflating: dataset/data/nigerianCurrencies/sample/train/N500/09.jpg  \n",
      "  inflating: dataset/data/nigerianCurrencies/sample/train/N500/13.jpg  \n",
      "  inflating: dataset/data/nigerianCurrencies/sample/train/N500/14.jpg  \n",
      "  inflating: dataset/data/nigerianCurrencies/sample/train/N500/15.jpg  \n",
      "  inflating: dataset/data/nigerianCurrencies/sample/train/N500/16.jpg  \n",
      "  inflating: dataset/data/nigerianCurrencies/sample/train/N500/19.jpg  \n",
      "  inflating: dataset/data/nigerianCurrencies/sample/train/N500/20.jpg  \n",
      "  inflating: dataset/data/nigerianCurrencies/sample/train/N500/21.jpg  \n",
      "  inflating: dataset/data/nigerianCurrencies/sample/train/N500/22.jpg  \n",
      "  inflating: dataset/data/nigerianCurrencies/sample/train/N500/24.jpg  \n",
      "  inflating: dataset/data/nigerianCurrencies/sample/train/N500/25.jpg  \n",
      "  inflating: dataset/data/nigerianCurrencies/sample/train/N500/26.jpg  \n",
      "  inflating: dataset/data/nigerianCurrencies/sample/train/N500/27.jpg  \n",
      "  inflating: dataset/data/nigerianCurrencies/sample/train/N500/32.jpg  \n",
      "   creating: dataset/data/nigerianCurrencies/sample/valid/\n",
      "   creating: dataset/data/nigerianCurrencies/sample/valid/N10/\n",
      "  inflating: dataset/data/nigerianCurrencies/sample/valid/N10/01.jpg  \n",
      "  inflating: dataset/data/nigerianCurrencies/sample/valid/N10/02.jpg  \n",
      "  inflating: dataset/data/nigerianCurrencies/sample/valid/N10/03.jpg  \n",
      "  inflating: dataset/data/nigerianCurrencies/sample/valid/N10/05.jpg  \n",
      "  inflating: dataset/data/nigerianCurrencies/sample/valid/N10/06.jpg  \n",
      "  inflating: dataset/data/nigerianCurrencies/sample/valid/N10/07.jpg  \n",
      "  inflating: dataset/data/nigerianCurrencies/sample/valid/N10/10.jpg  \n",
      "  inflating: dataset/data/nigerianCurrencies/sample/valid/N10/16.jpg  \n",
      "  inflating: dataset/data/nigerianCurrencies/sample/valid/N10/17.jpg  \n",
      "  inflating: dataset/data/nigerianCurrencies/sample/valid/N10/31.jpg  \n",
      "   creating: dataset/data/nigerianCurrencies/sample/valid/N100/\n",
      "  inflating: dataset/data/nigerianCurrencies/sample/valid/N100/01.jpg  \n",
      "  inflating: dataset/data/nigerianCurrencies/sample/valid/N100/05.jpg  \n",
      "  inflating: dataset/data/nigerianCurrencies/sample/valid/N100/08.jpg  \n",
      "  inflating: dataset/data/nigerianCurrencies/sample/valid/N100/09.jpg  \n",
      "  inflating: dataset/data/nigerianCurrencies/sample/valid/N100/12.jpg  \n",
      "  inflating: dataset/data/nigerianCurrencies/sample/valid/N100/20.jpg  \n",
      "  inflating: dataset/data/nigerianCurrencies/sample/valid/N100/23.jpg  \n",
      "  inflating: dataset/data/nigerianCurrencies/sample/valid/N100/29.jpg  \n",
      "  inflating: dataset/data/nigerianCurrencies/sample/valid/N100/30.jpg  \n",
      "  inflating: dataset/data/nigerianCurrencies/sample/valid/N100/32.jpg  \n",
      "   creating: dataset/data/nigerianCurrencies/sample/valid/N1000/\n",
      "  inflating: dataset/data/nigerianCurrencies/sample/valid/N1000/01.jpg  \n",
      "  inflating: dataset/data/nigerianCurrencies/sample/valid/N1000/03.jpg  \n",
      "  inflating: dataset/data/nigerianCurrencies/sample/valid/N1000/04.jpg  \n",
      "  inflating: dataset/data/nigerianCurrencies/sample/valid/N1000/07.jpg  \n",
      "  inflating: dataset/data/nigerianCurrencies/sample/valid/N1000/08.jpg  \n",
      "  inflating: dataset/data/nigerianCurrencies/sample/valid/N1000/11.jpg  \n",
      "  inflating: dataset/data/nigerianCurrencies/sample/valid/N1000/12.jpg  \n",
      "  inflating: dataset/data/nigerianCurrencies/sample/valid/N1000/20.jpg  \n",
      "  inflating: dataset/data/nigerianCurrencies/sample/valid/N1000/21.jpg  \n",
      "  inflating: dataset/data/nigerianCurrencies/sample/valid/N1000/32.jpg  \n",
      "   creating: dataset/data/nigerianCurrencies/sample/valid/N20/\n",
      "  inflating: dataset/data/nigerianCurrencies/sample/valid/N20/02.jpg  \n",
      "  inflating: dataset/data/nigerianCurrencies/sample/valid/N20/04.gif  \n",
      "  inflating: dataset/data/nigerianCurrencies/sample/valid/N20/05.jpg  \n",
      "  inflating: dataset/data/nigerianCurrencies/sample/valid/N20/06.jpg  \n",
      "  inflating: dataset/data/nigerianCurrencies/sample/valid/N20/07.jpg  \n",
      "  inflating: dataset/data/nigerianCurrencies/sample/valid/N20/11.jpg  \n",
      "  inflating: dataset/data/nigerianCurrencies/sample/valid/N20/16.jpg  \n",
      "  inflating: dataset/data/nigerianCurrencies/sample/valid/N20/17.jpg  \n",
      "  inflating: dataset/data/nigerianCurrencies/sample/valid/N20/2012_07_133-001.jpg  \n",
      "  inflating: dataset/data/nigerianCurrencies/sample/valid/N20/32.jpg  \n",
      "   creating: dataset/data/nigerianCurrencies/sample/valid/N200/\n",
      "  inflating: dataset/data/nigerianCurrencies/sample/valid/N200/01.jpg  \n",
      "  inflating: dataset/data/nigerianCurrencies/sample/valid/N200/02.JPG  \n",
      "  inflating: dataset/data/nigerianCurrencies/sample/valid/N200/05.jpg  \n",
      "  inflating: dataset/data/nigerianCurrencies/sample/valid/N200/08.jpg  \n",
      "  inflating: dataset/data/nigerianCurrencies/sample/valid/N200/09.jpg  \n",
      "  inflating: dataset/data/nigerianCurrencies/sample/valid/N200/10.jpg  \n",
      "  inflating: dataset/data/nigerianCurrencies/sample/valid/N200/11.jpg  \n",
      "  inflating: dataset/data/nigerianCurrencies/sample/valid/N200/15.jpg  \n",
      "  inflating: dataset/data/nigerianCurrencies/sample/valid/N200/31.jpg  \n",
      "  inflating: dataset/data/nigerianCurrencies/sample/valid/N200/32.jpg  \n",
      "   creating: dataset/data/nigerianCurrencies/sample/valid/N5/\n",
      "  inflating: dataset/data/nigerianCurrencies/sample/valid/N5/01.jpg  \n",
      "  inflating: dataset/data/nigerianCurrencies/sample/valid/N5/07.jpg  \n",
      "  inflating: dataset/data/nigerianCurrencies/sample/valid/N5/09.jpg  \n",
      "  inflating: dataset/data/nigerianCurrencies/sample/valid/N5/10.jpg  \n",
      "  inflating: dataset/data/nigerianCurrencies/sample/valid/N5/11.jpg  \n",
      "  inflating: dataset/data/nigerianCurrencies/sample/valid/N5/12.jpg  \n",
      "  inflating: dataset/data/nigerianCurrencies/sample/valid/N5/13.jpg  \n",
      "  inflating: dataset/data/nigerianCurrencies/sample/valid/N5/22.jpg  \n",
      "  inflating: dataset/data/nigerianCurrencies/sample/valid/N5/23.jpg  \n",
      "  inflating: dataset/data/nigerianCurrencies/sample/valid/N5/31.jpg  \n",
      "   creating: dataset/data/nigerianCurrencies/sample/valid/N50/\n",
      "  inflating: dataset/data/nigerianCurrencies/sample/valid/N50/01.jpg  \n",
      "  inflating: dataset/data/nigerianCurrencies/sample/valid/N50/02.jpg  \n",
      "  inflating: dataset/data/nigerianCurrencies/sample/valid/N50/05.jpg  \n",
      "  inflating: dataset/data/nigerianCurrencies/sample/valid/N50/06.jpg  \n",
      "  inflating: dataset/data/nigerianCurrencies/sample/valid/N50/10.jpg  \n",
      "  inflating: dataset/data/nigerianCurrencies/sample/valid/N50/11.jpg  \n",
      "  inflating: dataset/data/nigerianCurrencies/sample/valid/N50/19.jpg  \n",
      "  inflating: dataset/data/nigerianCurrencies/sample/valid/N50/26.jpg  \n",
      "  inflating: dataset/data/nigerianCurrencies/sample/valid/N50/31.jpg  \n",
      "  inflating: dataset/data/nigerianCurrencies/sample/valid/N50/32.jpg  \n",
      "   creating: dataset/data/nigerianCurrencies/sample/valid/N500/\n",
      "  inflating: dataset/data/nigerianCurrencies/sample/valid/N500/01.jpg  \n",
      "  inflating: dataset/data/nigerianCurrencies/sample/valid/N500/03.jpg  \n",
      "  inflating: dataset/data/nigerianCurrencies/sample/valid/N500/08.jpg  \n",
      "  inflating: dataset/data/nigerianCurrencies/sample/valid/N500/09.jpg  \n",
      "  inflating: dataset/data/nigerianCurrencies/sample/valid/N500/14.jpg  \n",
      "  inflating: dataset/data/nigerianCurrencies/sample/valid/N500/16.jpg  \n",
      "  inflating: dataset/data/nigerianCurrencies/sample/valid/N500/25.jpg  \n",
      "  inflating: dataset/data/nigerianCurrencies/sample/valid/N500/27.jpg  \n",
      "  inflating: dataset/data/nigerianCurrencies/sample/valid/N500/31.jpg  \n",
      "  inflating: dataset/data/nigerianCurrencies/sample/valid/N500/32.jpg  \n",
      "   creating: dataset/data/nigerianCurrencies/test1/\n",
      "  inflating: dataset/data/nigerianCurrencies/test1/05.jpg  \n",
      "  inflating: dataset/data/nigerianCurrencies/test1/07.jpg  \n",
      "  inflating: dataset/data/nigerianCurrencies/test1/1.jpg  \n",
      "  inflating: dataset/data/nigerianCurrencies/test1/10.jpg  \n",
      "  inflating: dataset/data/nigerianCurrencies/test1/11.jpg  \n",
      "  inflating: dataset/data/nigerianCurrencies/test1/12.jpg  \n",
      "  inflating: dataset/data/nigerianCurrencies/test1/13.jpg  \n",
      "  inflating: dataset/data/nigerianCurrencies/test1/14.jpg  \n",
      "  inflating: dataset/data/nigerianCurrencies/test1/15.jpg  \n",
      "  inflating: dataset/data/nigerianCurrencies/test1/16.jpg  \n",
      "  inflating: dataset/data/nigerianCurrencies/test1/17.jpg  \n",
      "  inflating: dataset/data/nigerianCurrencies/test1/18.JPG  \n",
      "  inflating: dataset/data/nigerianCurrencies/test1/18.jpg  \n",
      "  inflating: dataset/data/nigerianCurrencies/test1/19.jpg  \n",
      "  inflating: dataset/data/nigerianCurrencies/test1/197.jpg  \n",
      "  inflating: dataset/data/nigerianCurrencies/test1/1E1.jpg  \n",
      "  inflating: dataset/data/nigerianCurrencies/test1/2.jpg  \n",
      "  inflating: dataset/data/nigerianCurrencies/test1/20.jpg  \n",
      "  inflating: dataset/data/nigerianCurrencies/test1/2007_200k.jpg  \n",
      "  inflating: dataset/data/nigerianCurrencies/test1/21.jpg  \n",
      "  inflating: dataset/data/nigerianCurrencies/test1/22.jpg  \n",
      "  inflating: dataset/data/nigerianCurrencies/test1/23.jpg  \n",
      "  inflating: dataset/data/nigerianCurrencies/test1/24.jpg  \n",
      "  inflating: dataset/data/nigerianCurrencies/test1/29.jpg  \n",
      "  inflating: dataset/data/nigerianCurrencies/test1/3.jpg  \n",
      "  inflating: dataset/data/nigerianCurrencies/test1/4.jpg  \n",
      "  inflating: dataset/data/nigerianCurrencies/test1/5.jpg  \n",
      "  inflating: dataset/data/nigerianCurrencies/test1/500naira.jpg  \n",
      "  inflating: dataset/data/nigerianCurrencies/test1/500_naira_note.jpg  \n",
      "  inflating: dataset/data/nigerianCurrencies/test1/570e51fa8b8c1.jpg  \n",
      "  inflating: dataset/data/nigerianCurrencies/test1/6.jpg  \n",
      "  inflating: dataset/data/nigerianCurrencies/test1/7.jpg  \n",
      "  inflating: dataset/data/nigerianCurrencies/test1/8.jpg  \n",
      "  inflating: dataset/data/nigerianCurrencies/test1/89493312.jpg  \n",
      "  inflating: dataset/data/nigerianCurrencies/test1/89989679-gettyimages-81951767-3.jpg  \n",
      "  inflating: dataset/data/nigerianCurrencies/test1/9.jpg  \n",
      "  inflating: dataset/data/nigerianCurrencies/test1/AR.jpg  \n",
      "  inflating: dataset/data/nigerianCurrencies/test1/bundles-of-cash-1.jpg  \n",
      "  inflating: dataset/data/nigerianCurrencies/test1/Crisp-naira-notes-ii-300x250.jpg  \n",
      "  inflating: dataset/data/nigerianCurrencies/test1/imag0405-2.jpg  \n",
      "  inflating: dataset/data/nigerianCurrencies/test1/images.jpg  \n",
      "  inflating: dataset/data/nigerianCurrencies/test1/IMG_20170601_205650_170.JPG  \n"
     ]
    },
    {
     "name": "stdout",
     "output_type": "stream",
     "text": [
      "  inflating: dataset/data/nigerianCurrencies/test1/Naira9.jpg  \r\n",
      "  inflating: dataset/data/nigerianCurrencies/test1/Nigeria 10 Naira 2004.alt.300dpi.jpg  \r\n",
      "  inflating: dataset/data/nigerianCurrencies/test1/nigeria cash 6.jpg  \r\n",
      "  inflating: dataset/data/nigerianCurrencies/test1/Nigeria-10-Naira-P-39b-UNC-from-2010-Alvan.jpg  \r\n",
      "  inflating: dataset/data/nigerianCurrencies/test1/PicsJoin_20173190345815-300x300.jpg  \r\n",
      "  inflating: dataset/data/nigerianCurrencies/test1/Q.jpg  \r\n",
      "  inflating: dataset/data/nigerianCurrencies/test1/RAR.jpg  \r\n",
      "  inflating: dataset/data/nigerianCurrencies/test1/RARA.JPG  \r\n",
      "  inflating: dataset/data/nigerianCurrencies/test1/RRS.jpg  \r\n",
      "  inflating: dataset/data/nigerianCurrencies/test1/s-l500.jpg  \r\n",
      "  inflating: dataset/data/nigerianCurrencies/test1/t5.jpg  \r\n",
      "  inflating: dataset/data/nigerianCurrencies/test1/TEN-NAIRA-OLD (1).jpg  \r\n",
      "  inflating: dataset/data/nigerianCurrencies/test1/vllkyt1v568l08ldj8.c2d570de.jpg  \r\n",
      "  inflating: dataset/data/nigerianCurrencies/test1/vllkythjcteb5d59o1724167946.jpg  \r\n",
      "  inflating: dataset/data/nigerianCurrencies/test1/XG.jpg  \r\n",
      "   creating: dataset/data/nigerianCurrencies/train/\r\n",
      "   creating: dataset/data/nigerianCurrencies/train/N10/\r\n",
      "  inflating: dataset/data/nigerianCurrencies/train/N10/01.jpg  \r\n",
      "  inflating: dataset/data/nigerianCurrencies/train/N10/02.jpg  \r\n",
      "  inflating: dataset/data/nigerianCurrencies/train/N10/03.jpg  \r\n",
      "  inflating: dataset/data/nigerianCurrencies/train/N10/04.jpg  \r\n",
      "  inflating: dataset/data/nigerianCurrencies/train/N10/05.jpg  \r\n",
      "  inflating: dataset/data/nigerianCurrencies/train/N10/06.jpg  \r\n",
      "  inflating: dataset/data/nigerianCurrencies/train/N10/07.jpg  \r\n",
      "  inflating: dataset/data/nigerianCurrencies/train/N10/08.jpg  \r\n",
      "  inflating: dataset/data/nigerianCurrencies/train/N10/09.jpg  \r\n",
      "  inflating: dataset/data/nigerianCurrencies/train/N10/10.jpg  \r\n",
      "  inflating: dataset/data/nigerianCurrencies/train/N10/11.jpg  \r\n",
      "  inflating: dataset/data/nigerianCurrencies/train/N10/12.jpg  \r\n",
      "  inflating: dataset/data/nigerianCurrencies/train/N10/13.jpg  \r\n",
      "  inflating: dataset/data/nigerianCurrencies/train/N10/14.jpg  \r\n",
      "  inflating: dataset/data/nigerianCurrencies/train/N10/15.jpg  \r\n",
      "  inflating: dataset/data/nigerianCurrencies/train/N10/16.jpg  \r\n",
      "  inflating: dataset/data/nigerianCurrencies/train/N10/17.jpg  \r\n",
      "  inflating: dataset/data/nigerianCurrencies/train/N10/18.jpg  \r\n",
      "  inflating: dataset/data/nigerianCurrencies/train/N10/19.jpg  \r\n",
      "  inflating: dataset/data/nigerianCurrencies/train/N10/20.jpg  \r\n",
      "  inflating: dataset/data/nigerianCurrencies/train/N10/21.jpg  \r\n",
      "  inflating: dataset/data/nigerianCurrencies/train/N10/22.jpg  \r\n",
      "  inflating: dataset/data/nigerianCurrencies/train/N10/23.jpg  \r\n",
      "  inflating: dataset/data/nigerianCurrencies/train/N10/24.jpg  \r\n",
      "  inflating: dataset/data/nigerianCurrencies/train/N10/25.jpg  \r\n",
      "  inflating: dataset/data/nigerianCurrencies/train/N10/26.jpeg  \r\n",
      "  inflating: dataset/data/nigerianCurrencies/train/N10/27.jpg  \r\n",
      "  inflating: dataset/data/nigerianCurrencies/train/N10/28.jpg  \r\n",
      "  inflating: dataset/data/nigerianCurrencies/train/N10/29.jpg  \r\n",
      "  inflating: dataset/data/nigerianCurrencies/train/N10/30.jpg  \n",
      "  inflating: dataset/data/nigerianCurrencies/train/N10/31.jpg  \n",
      "  inflating: dataset/data/nigerianCurrencies/train/N10/32.jpg  \n",
      "   creating: dataset/data/nigerianCurrencies/train/N100/\n",
      "  inflating: dataset/data/nigerianCurrencies/train/N100/01.jpg  \n",
      "  inflating: dataset/data/nigerianCurrencies/train/N100/02.jpg  \n",
      "  inflating: dataset/data/nigerianCurrencies/train/N100/03.jpg  \n",
      "  inflating: dataset/data/nigerianCurrencies/train/N100/04.jpg  \n",
      "  inflating: dataset/data/nigerianCurrencies/train/N100/05.jpg  \n",
      "  inflating: dataset/data/nigerianCurrencies/train/N100/06.jpg  \n",
      "  inflating: dataset/data/nigerianCurrencies/train/N100/07.jpg  \n",
      "  inflating: dataset/data/nigerianCurrencies/train/N100/08.jpg  \n",
      "  inflating: dataset/data/nigerianCurrencies/train/N100/09.jpg  \n",
      "  inflating: dataset/data/nigerianCurrencies/train/N100/10.jpg  \n",
      "  inflating: dataset/data/nigerianCurrencies/train/N100/11.jpg  \n",
      "  inflating: dataset/data/nigerianCurrencies/train/N100/12.jpg  \n",
      "  inflating: dataset/data/nigerianCurrencies/train/N100/13.jpg  \n",
      "  inflating: dataset/data/nigerianCurrencies/train/N100/14.jpg  \n",
      "  inflating: dataset/data/nigerianCurrencies/train/N100/15.jpg  \n",
      "  inflating: dataset/data/nigerianCurrencies/train/N100/16.jpg  \n",
      "  inflating: dataset/data/nigerianCurrencies/train/N100/17.jpg  \n",
      "  inflating: dataset/data/nigerianCurrencies/train/N100/18.jpg  \n",
      "  inflating: dataset/data/nigerianCurrencies/train/N100/19.jpg  \n",
      "  inflating: dataset/data/nigerianCurrencies/train/N100/20.jpg  \n",
      "  inflating: dataset/data/nigerianCurrencies/train/N100/21.jpg  \n",
      "  inflating: dataset/data/nigerianCurrencies/train/N100/22.jpg  \n",
      "  inflating: dataset/data/nigerianCurrencies/train/N100/23.jpg  \n",
      "  inflating: dataset/data/nigerianCurrencies/train/N100/24.jpg  \n",
      "  inflating: dataset/data/nigerianCurrencies/train/N100/25.jpg  \n",
      "  inflating: dataset/data/nigerianCurrencies/train/N100/26.jpg  \n",
      "  inflating: dataset/data/nigerianCurrencies/train/N100/27.jpg  \n",
      "  inflating: dataset/data/nigerianCurrencies/train/N100/28.jpg  \n",
      "  inflating: dataset/data/nigerianCurrencies/train/N100/29.jpg  \n",
      "  inflating: dataset/data/nigerianCurrencies/train/N100/30.jpg  \n",
      "  inflating: dataset/data/nigerianCurrencies/train/N100/31.jpg  \n",
      "  inflating: dataset/data/nigerianCurrencies/train/N100/32.jpg  \n",
      "   creating: dataset/data/nigerianCurrencies/train/N1000/\n",
      "  inflating: dataset/data/nigerianCurrencies/train/N1000/01.jpg  \n",
      "  inflating: dataset/data/nigerianCurrencies/train/N1000/02.jpg  \n",
      "  inflating: dataset/data/nigerianCurrencies/train/N1000/03.jpg  \n",
      "  inflating: dataset/data/nigerianCurrencies/train/N1000/04.jpg  \n",
      "  inflating: dataset/data/nigerianCurrencies/train/N1000/05.jpg  \n",
      "  inflating: dataset/data/nigerianCurrencies/train/N1000/06.jpg  \n",
      "  inflating: dataset/data/nigerianCurrencies/train/N1000/07.jpg  \n",
      "  inflating: dataset/data/nigerianCurrencies/train/N1000/08.jpg  \n",
      "  inflating: dataset/data/nigerianCurrencies/train/N1000/09.jpg  \n",
      "  inflating: dataset/data/nigerianCurrencies/train/N1000/10.jpg  \n",
      "  inflating: dataset/data/nigerianCurrencies/train/N1000/11.jpg  \n",
      "  inflating: dataset/data/nigerianCurrencies/train/N1000/12.jpg  \n",
      "  inflating: dataset/data/nigerianCurrencies/train/N1000/13.jpg  \n",
      "  inflating: dataset/data/nigerianCurrencies/train/N1000/14.jpg  \n",
      "  inflating: dataset/data/nigerianCurrencies/train/N1000/15.jpg  \n",
      "  inflating: dataset/data/nigerianCurrencies/train/N1000/16.jpg  \n",
      "  inflating: dataset/data/nigerianCurrencies/train/N1000/17.jpg  \n",
      "  inflating: dataset/data/nigerianCurrencies/train/N1000/18.jpg  \n",
      "  inflating: dataset/data/nigerianCurrencies/train/N1000/19.jpg  \n",
      "  inflating: dataset/data/nigerianCurrencies/train/N1000/20.jpg  \n",
      "  inflating: dataset/data/nigerianCurrencies/train/N1000/21.jpg  \n",
      "  inflating: dataset/data/nigerianCurrencies/train/N1000/22.jpg  \n",
      "  inflating: dataset/data/nigerianCurrencies/train/N1000/23.jpg  \n",
      "  inflating: dataset/data/nigerianCurrencies/train/N1000/24.jpg  \n",
      "  inflating: dataset/data/nigerianCurrencies/train/N1000/25.jpg  \n",
      "  inflating: dataset/data/nigerianCurrencies/train/N1000/26.jpg  \n",
      "  inflating: dataset/data/nigerianCurrencies/train/N1000/27.jpg  \n",
      "  inflating: dataset/data/nigerianCurrencies/train/N1000/28.jpg  \n",
      "  inflating: dataset/data/nigerianCurrencies/train/N1000/29.jpg  \n",
      "  inflating: dataset/data/nigerianCurrencies/train/N1000/30.png  \n",
      "  inflating: dataset/data/nigerianCurrencies/train/N1000/31.jpg  \n",
      "  inflating: dataset/data/nigerianCurrencies/train/N1000/32.jpg  \n",
      "   creating: dataset/data/nigerianCurrencies/train/N20/\n",
      "  inflating: dataset/data/nigerianCurrencies/train/N20/01.jpg  \n",
      "  inflating: dataset/data/nigerianCurrencies/train/N20/010.jpg  \n",
      "  inflating: dataset/data/nigerianCurrencies/train/N20/02.jpg  \n",
      "  inflating: dataset/data/nigerianCurrencies/train/N20/03.jpg  \n",
      "  inflating: dataset/data/nigerianCurrencies/train/N20/04.gif  \n",
      "  inflating: dataset/data/nigerianCurrencies/train/N20/05.jpg  \n",
      "  inflating: dataset/data/nigerianCurrencies/train/N20/06.jpg  \n",
      "  inflating: dataset/data/nigerianCurrencies/train/N20/07.jpg  \n",
      "  inflating: dataset/data/nigerianCurrencies/train/N20/08.jpg  \n",
      "  inflating: dataset/data/nigerianCurrencies/train/N20/09.jpg  \n",
      "  inflating: dataset/data/nigerianCurrencies/train/N20/11.jpg  \n",
      "  inflating: dataset/data/nigerianCurrencies/train/N20/12.jpg  \n",
      "  inflating: dataset/data/nigerianCurrencies/train/N20/13.jpg  \n",
      "  inflating: dataset/data/nigerianCurrencies/train/N20/14.jpg  \n",
      "  inflating: dataset/data/nigerianCurrencies/train/N20/15.jpg  \n",
      "  inflating: dataset/data/nigerianCurrencies/train/N20/16.jpg  \n",
      "  inflating: dataset/data/nigerianCurrencies/train/N20/17.jpg  \n",
      "  inflating: dataset/data/nigerianCurrencies/train/N20/18.jpg  \n",
      "  inflating: dataset/data/nigerianCurrencies/train/N20/19.jpg  \n",
      "  inflating: dataset/data/nigerianCurrencies/train/N20/20.jpg  \n",
      "  inflating: dataset/data/nigerianCurrencies/train/N20/21.jpg  \n",
      "  inflating: dataset/data/nigerianCurrencies/train/N20/22.jpg  \n",
      "  inflating: dataset/data/nigerianCurrencies/train/N20/23.jpg  \n",
      "  inflating: dataset/data/nigerianCurrencies/train/N20/24.jpg  \n",
      "  inflating: dataset/data/nigerianCurrencies/train/N20/25.jpg  \n",
      "  inflating: dataset/data/nigerianCurrencies/train/N20/26.jpg  \n",
      "  inflating: dataset/data/nigerianCurrencies/train/N20/27.jpg  \n",
      "  inflating: dataset/data/nigerianCurrencies/train/N20/28.jpg  \n",
      "  inflating: dataset/data/nigerianCurrencies/train/N20/29.jpg  \n",
      "  inflating: dataset/data/nigerianCurrencies/train/N20/30.jpg  \n",
      "  inflating: dataset/data/nigerianCurrencies/train/N20/31.jpg  \n",
      "  inflating: dataset/data/nigerianCurrencies/train/N20/32.jpg  \n",
      "   creating: dataset/data/nigerianCurrencies/train/N200/\n",
      "  inflating: dataset/data/nigerianCurrencies/train/N200/01.jpg  \n",
      "  inflating: dataset/data/nigerianCurrencies/train/N200/02.JPG  \n",
      "  inflating: dataset/data/nigerianCurrencies/train/N200/03.jpg  \n",
      "  inflating: dataset/data/nigerianCurrencies/train/N200/04.jpg  \n",
      "  inflating: dataset/data/nigerianCurrencies/train/N200/05.jpg  \n",
      "  inflating: dataset/data/nigerianCurrencies/train/N200/06.jpg  \n",
      "  inflating: dataset/data/nigerianCurrencies/train/N200/07.jpg  \n",
      "  inflating: dataset/data/nigerianCurrencies/train/N200/08.jpg  \n",
      "  inflating: dataset/data/nigerianCurrencies/train/N200/09.jpg  \n",
      "  inflating: dataset/data/nigerianCurrencies/train/N200/10.jpg  \n",
      "  inflating: dataset/data/nigerianCurrencies/train/N200/11.jpg  \n",
      "  inflating: dataset/data/nigerianCurrencies/train/N200/12.JPG  \n",
      "  inflating: dataset/data/nigerianCurrencies/train/N200/13.jpg  \n",
      "  inflating: dataset/data/nigerianCurrencies/train/N200/14.jpg  \n",
      "  inflating: dataset/data/nigerianCurrencies/train/N200/15.jpg  \n",
      "  inflating: dataset/data/nigerianCurrencies/train/N200/16.jpg  \n",
      "  inflating: dataset/data/nigerianCurrencies/train/N200/17.jpg  \n",
      "  inflating: dataset/data/nigerianCurrencies/train/N200/18.jpg  \n",
      "  inflating: dataset/data/nigerianCurrencies/train/N200/19.jpg  \n",
      "  inflating: dataset/data/nigerianCurrencies/train/N200/20.jpg  \n",
      "  inflating: dataset/data/nigerianCurrencies/train/N200/21.jpg  \n",
      "  inflating: dataset/data/nigerianCurrencies/train/N200/22.jpg  \n",
      "  inflating: dataset/data/nigerianCurrencies/train/N200/23.JPG  \n",
      "  inflating: dataset/data/nigerianCurrencies/train/N200/24.jpg  \n",
      "  inflating: dataset/data/nigerianCurrencies/train/N200/25.jpg  \n",
      "  inflating: dataset/data/nigerianCurrencies/train/N200/26.jpg  \n",
      "  inflating: dataset/data/nigerianCurrencies/train/N200/27.JPG  \n",
      "  inflating: dataset/data/nigerianCurrencies/train/N200/28.jpg  \n",
      "  inflating: dataset/data/nigerianCurrencies/train/N200/29.jpg  \n",
      "  inflating: dataset/data/nigerianCurrencies/train/N200/30.jpg  \n",
      "  inflating: dataset/data/nigerianCurrencies/train/N200/31.jpg  \n",
      "  inflating: dataset/data/nigerianCurrencies/train/N200/32.jpg  \n",
      "   creating: dataset/data/nigerianCurrencies/train/N5/\n",
      "  inflating: dataset/data/nigerianCurrencies/train/N5/01.jpg  \n",
      "  inflating: dataset/data/nigerianCurrencies/train/N5/02.jpg  \n",
      "  inflating: dataset/data/nigerianCurrencies/train/N5/03.jpg  \n",
      "  inflating: dataset/data/nigerianCurrencies/train/N5/04.jpg  \n",
      "  inflating: dataset/data/nigerianCurrencies/train/N5/05.jpg  \n",
      "  inflating: dataset/data/nigerianCurrencies/train/N5/06.jpg  \n",
      "  inflating: dataset/data/nigerianCurrencies/train/N5/07.jpg  \n",
      "  inflating: dataset/data/nigerianCurrencies/train/N5/08.jpg  \n",
      "  inflating: dataset/data/nigerianCurrencies/train/N5/09.jpg  \n",
      "  inflating: dataset/data/nigerianCurrencies/train/N5/10.jpg  \n",
      "  inflating: dataset/data/nigerianCurrencies/train/N5/11.jpg  \n",
      "  inflating: dataset/data/nigerianCurrencies/train/N5/12.jpg  \n",
      "  inflating: dataset/data/nigerianCurrencies/train/N5/13.jpg  \n",
      "  inflating: dataset/data/nigerianCurrencies/train/N5/14.jpg  \n",
      "  inflating: dataset/data/nigerianCurrencies/train/N5/15.jpg  \n",
      "  inflating: dataset/data/nigerianCurrencies/train/N5/16.jpg  \n",
      "  inflating: dataset/data/nigerianCurrencies/train/N5/17.jpg  \n",
      "  inflating: dataset/data/nigerianCurrencies/train/N5/18.jpg  \n",
      "  inflating: dataset/data/nigerianCurrencies/train/N5/19.jpg  \n",
      "  inflating: dataset/data/nigerianCurrencies/train/N5/20.jpg  \n",
      "  inflating: dataset/data/nigerianCurrencies/train/N5/21.jpg  \n",
      "  inflating: dataset/data/nigerianCurrencies/train/N5/22.jpg  \n",
      "  inflating: dataset/data/nigerianCurrencies/train/N5/23.jpg  \n",
      "  inflating: dataset/data/nigerianCurrencies/train/N5/24.jpg  \n",
      "  inflating: dataset/data/nigerianCurrencies/train/N5/25.jpg  \n",
      "  inflating: dataset/data/nigerianCurrencies/train/N5/26.jpg  \n",
      "  inflating: dataset/data/nigerianCurrencies/train/N5/27.jpg  \n",
      "  inflating: dataset/data/nigerianCurrencies/train/N5/28.jpg  \n",
      "  inflating: dataset/data/nigerianCurrencies/train/N5/29.jpg  \n",
      "  inflating: dataset/data/nigerianCurrencies/train/N5/30.jpg  \n",
      "  inflating: dataset/data/nigerianCurrencies/train/N5/31.jpg  \n",
      "  inflating: dataset/data/nigerianCurrencies/train/N5/32.jpg  \n",
      "   creating: dataset/data/nigerianCurrencies/train/N50/\n",
      "  inflating: dataset/data/nigerianCurrencies/train/N50/01.jpg  \n",
      "  inflating: dataset/data/nigerianCurrencies/train/N50/02.jpg  \n",
      "  inflating: dataset/data/nigerianCurrencies/train/N50/03.jpg  \n",
      "  inflating: dataset/data/nigerianCurrencies/train/N50/04.jpg  \n",
      "  inflating: dataset/data/nigerianCurrencies/train/N50/05.jpg  \n",
      "  inflating: dataset/data/nigerianCurrencies/train/N50/06.jpg  \n",
      "  inflating: dataset/data/nigerianCurrencies/train/N50/07.jpg  \n",
      "  inflating: dataset/data/nigerianCurrencies/train/N50/08.jpg  \n",
      "  inflating: dataset/data/nigerianCurrencies/train/N50/09.jpg  \n",
      "  inflating: dataset/data/nigerianCurrencies/train/N50/10.jpg  \n",
      "  inflating: dataset/data/nigerianCurrencies/train/N50/11.jpg  \n",
      "  inflating: dataset/data/nigerianCurrencies/train/N50/12.jpg  \n",
      "  inflating: dataset/data/nigerianCurrencies/train/N50/13.jpg  \n",
      "  inflating: dataset/data/nigerianCurrencies/train/N50/14.jpg  \n",
      "  inflating: dataset/data/nigerianCurrencies/train/N50/15.jpg  \n",
      "  inflating: dataset/data/nigerianCurrencies/train/N50/16.jpeg  \n",
      "  inflating: dataset/data/nigerianCurrencies/train/N50/17.jpg  \n",
      "  inflating: dataset/data/nigerianCurrencies/train/N50/18.jpg  \n",
      "  inflating: dataset/data/nigerianCurrencies/train/N50/19.jpg  \n",
      "  inflating: dataset/data/nigerianCurrencies/train/N50/20.jpg  \n",
      "  inflating: dataset/data/nigerianCurrencies/train/N50/21.jpeg  \n",
      "  inflating: dataset/data/nigerianCurrencies/train/N50/22.jpeg  \n",
      "  inflating: dataset/data/nigerianCurrencies/train/N50/23.jpg  \n",
      "  inflating: dataset/data/nigerianCurrencies/train/N50/24.jpg  \n",
      "  inflating: dataset/data/nigerianCurrencies/train/N50/25.jpg  \n",
      "  inflating: dataset/data/nigerianCurrencies/train/N50/26.jpg  \n",
      "  inflating: dataset/data/nigerianCurrencies/train/N50/27.jpeg  \n",
      "  inflating: dataset/data/nigerianCurrencies/train/N50/28.jpg  \n",
      "  inflating: dataset/data/nigerianCurrencies/train/N50/29.jpg  \n",
      "  inflating: dataset/data/nigerianCurrencies/train/N50/30.jpg  \n",
      "  inflating: dataset/data/nigerianCurrencies/train/N50/31.jpg  \n",
      "  inflating: dataset/data/nigerianCurrencies/train/N50/32.jpg  \n",
      "   creating: dataset/data/nigerianCurrencies/train/N500/\n",
      "  inflating: dataset/data/nigerianCurrencies/train/N500/01.jpg  \n",
      "  inflating: dataset/data/nigerianCurrencies/train/N500/02.jpg  \n",
      "  inflating: dataset/data/nigerianCurrencies/train/N500/03.jpg  \n",
      "  inflating: dataset/data/nigerianCurrencies/train/N500/04.jpg  \n",
      "  inflating: dataset/data/nigerianCurrencies/train/N500/05.jpg  \n",
      "  inflating: dataset/data/nigerianCurrencies/train/N500/06.jpg  \n",
      "  inflating: dataset/data/nigerianCurrencies/train/N500/07.jpg  \n",
      "  inflating: dataset/data/nigerianCurrencies/train/N500/08.jpg  \n",
      "  inflating: dataset/data/nigerianCurrencies/train/N500/09.jpg  \n",
      "  inflating: dataset/data/nigerianCurrencies/train/N500/10.jpg  \n",
      "  inflating: dataset/data/nigerianCurrencies/train/N500/11.JPG  \n",
      "  inflating: dataset/data/nigerianCurrencies/train/N500/12.jpg  \n",
      "  inflating: dataset/data/nigerianCurrencies/train/N500/13.jpg  \n",
      "  inflating: dataset/data/nigerianCurrencies/train/N500/14.jpg  \n",
      "  inflating: dataset/data/nigerianCurrencies/train/N500/15.jpg  \n",
      "  inflating: dataset/data/nigerianCurrencies/train/N500/16.jpg  \n",
      "  inflating: dataset/data/nigerianCurrencies/train/N500/17.jpg  \n",
      "  inflating: dataset/data/nigerianCurrencies/train/N500/18.jpg  \n",
      "  inflating: dataset/data/nigerianCurrencies/train/N500/19.jpg  \n",
      "  inflating: dataset/data/nigerianCurrencies/train/N500/20.jpg  \n",
      "  inflating: dataset/data/nigerianCurrencies/train/N500/21.jpg  \n",
      "  inflating: dataset/data/nigerianCurrencies/train/N500/22.jpg  \n",
      "  inflating: dataset/data/nigerianCurrencies/train/N500/23.jpg  \n",
      "  inflating: dataset/data/nigerianCurrencies/train/N500/24.jpg  \n",
      "  inflating: dataset/data/nigerianCurrencies/train/N500/25.jpg  \n",
      "  inflating: dataset/data/nigerianCurrencies/train/N500/26.jpg  \n",
      "  inflating: dataset/data/nigerianCurrencies/train/N500/27.jpg  \n",
      "  inflating: dataset/data/nigerianCurrencies/train/N500/28.jpg  \n",
      "  inflating: dataset/data/nigerianCurrencies/train/N500/29.jpg  \n",
      "  inflating: dataset/data/nigerianCurrencies/train/N500/30.jpg  \n",
      "  inflating: dataset/data/nigerianCurrencies/train/N500/31.jpg  \n",
      "  inflating: dataset/data/nigerianCurrencies/train/N500/32.jpg  \n",
      "   creating: dataset/data/nigerianCurrencies/valid/\n",
      "   creating: dataset/data/nigerianCurrencies/valid/N10/\n",
      "  inflating: dataset/data/nigerianCurrencies/valid/N10/01.jpg  \n",
      "  inflating: dataset/data/nigerianCurrencies/valid/N10/02.jpg  \n",
      "  inflating: dataset/data/nigerianCurrencies/valid/N10/03.jpg  \n",
      "  inflating: dataset/data/nigerianCurrencies/valid/N10/05.jpg  \n",
      "  inflating: dataset/data/nigerianCurrencies/valid/N10/09.jpg  \n",
      "  inflating: dataset/data/nigerianCurrencies/valid/N10/10.jpg  \n",
      "  inflating: dataset/data/nigerianCurrencies/valid/N10/14.jpg  \n",
      "  inflating: dataset/data/nigerianCurrencies/valid/N10/17.jpg  \n",
      "  inflating: dataset/data/nigerianCurrencies/valid/N10/18.jpg  \n",
      "  inflating: dataset/data/nigerianCurrencies/valid/N10/19.jpg  \n",
      "  inflating: dataset/data/nigerianCurrencies/valid/N10/23.jpg  \n",
      "  inflating: dataset/data/nigerianCurrencies/valid/N10/24.jpg  \n",
      "  inflating: dataset/data/nigerianCurrencies/valid/N10/30.jpg  \n",
      "  inflating: dataset/data/nigerianCurrencies/valid/N10/31.jpg  \n",
      "  inflating: dataset/data/nigerianCurrencies/valid/N10/32.jpg  \n",
      "   creating: dataset/data/nigerianCurrencies/valid/N100/\n",
      "  inflating: dataset/data/nigerianCurrencies/valid/N100/01.jpg  \n",
      "  inflating: dataset/data/nigerianCurrencies/valid/N100/02.jpg  \n",
      "  inflating: dataset/data/nigerianCurrencies/valid/N100/05.jpg  \n",
      "  inflating: dataset/data/nigerianCurrencies/valid/N100/07.jpg  \n",
      "  inflating: dataset/data/nigerianCurrencies/valid/N100/08.jpg  \n",
      "  inflating: dataset/data/nigerianCurrencies/valid/N100/09.jpg  \n",
      "  inflating: dataset/data/nigerianCurrencies/valid/N100/10.jpg  \n",
      "  inflating: dataset/data/nigerianCurrencies/valid/N100/12.jpg  \n",
      "  inflating: dataset/data/nigerianCurrencies/valid/N100/20.jpg  \n",
      "  inflating: dataset/data/nigerianCurrencies/valid/N100/22.jpg  \n",
      "  inflating: dataset/data/nigerianCurrencies/valid/N100/23.jpg  \n",
      "  inflating: dataset/data/nigerianCurrencies/valid/N100/29.jpg  \n",
      "  inflating: dataset/data/nigerianCurrencies/valid/N100/30.jpg  \n",
      "  inflating: dataset/data/nigerianCurrencies/valid/N100/31.jpg  \n",
      "  inflating: dataset/data/nigerianCurrencies/valid/N100/32.jpg  \n",
      "   creating: dataset/data/nigerianCurrencies/valid/N1000/\n",
      "  inflating: dataset/data/nigerianCurrencies/valid/N1000/01.jpg  \n",
      "  inflating: dataset/data/nigerianCurrencies/valid/N1000/03.jpg  \n",
      "  inflating: dataset/data/nigerianCurrencies/valid/N1000/04.jpg  \n",
      "  inflating: dataset/data/nigerianCurrencies/valid/N1000/07.jpg  \n",
      "  inflating: dataset/data/nigerianCurrencies/valid/N1000/08.jpg  \n",
      "  inflating: dataset/data/nigerianCurrencies/valid/N1000/10.jpg  \n",
      "  inflating: dataset/data/nigerianCurrencies/valid/N1000/11.jpg  \n",
      "  inflating: dataset/data/nigerianCurrencies/valid/N1000/12.jpg  \n",
      "  inflating: dataset/data/nigerianCurrencies/valid/N1000/20.jpg  \n",
      "  inflating: dataset/data/nigerianCurrencies/valid/N1000/21.jpg  \n"
     ]
    },
    {
     "name": "stdout",
     "output_type": "stream",
     "text": [
      "  inflating: dataset/data/nigerianCurrencies/valid/N1000/22.jpg  \r\n",
      "  inflating: dataset/data/nigerianCurrencies/valid/N1000/24.jpg  \r\n",
      "  inflating: dataset/data/nigerianCurrencies/valid/N1000/27.jpg  \r\n",
      "  inflating: dataset/data/nigerianCurrencies/valid/N1000/31.jpg  \r\n",
      "  inflating: dataset/data/nigerianCurrencies/valid/N1000/32.jpg  \r\n",
      "   creating: dataset/data/nigerianCurrencies/valid/N20/\r\n",
      "  inflating: dataset/data/nigerianCurrencies/valid/N20/02.jpg  \r\n",
      "  inflating: dataset/data/nigerianCurrencies/valid/N20/04.gif  \r\n",
      "  inflating: dataset/data/nigerianCurrencies/valid/N20/05.jpg  \r\n",
      "  inflating: dataset/data/nigerianCurrencies/valid/N20/06.jpg  \r\n",
      "  inflating: dataset/data/nigerianCurrencies/valid/N20/07.jpg  \r\n",
      "  inflating: dataset/data/nigerianCurrencies/valid/N20/14.jpg  \r\n",
      "  inflating: dataset/data/nigerianCurrencies/valid/N20/16.jpg  \r\n",
      "  inflating: dataset/data/nigerianCurrencies/valid/N20/17.jpg  \r\n",
      "  inflating: dataset/data/nigerianCurrencies/valid/N20/20.jpg  \n",
      "  inflating: dataset/data/nigerianCurrencies/valid/N20/2012_07_133-001.jpg  \n",
      "  inflating: dataset/data/nigerianCurrencies/valid/N20/21.jpg  \n",
      "  inflating: dataset/data/nigerianCurrencies/valid/N20/23.jpg  \n",
      "  inflating: dataset/data/nigerianCurrencies/valid/N20/24.jpg  \n",
      "  inflating: dataset/data/nigerianCurrencies/valid/N20/25.jpg  \n",
      "  inflating: dataset/data/nigerianCurrencies/valid/N20/32.jpg  \n",
      "   creating: dataset/data/nigerianCurrencies/valid/N200/\n",
      "  inflating: dataset/data/nigerianCurrencies/valid/N200/01.jpg  \n",
      "  inflating: dataset/data/nigerianCurrencies/valid/N200/02.JPG  \n",
      "  inflating: dataset/data/nigerianCurrencies/valid/N200/04.jpg  \n",
      "  inflating: dataset/data/nigerianCurrencies/valid/N200/05.jpg  \n",
      "  inflating: dataset/data/nigerianCurrencies/valid/N200/08.jpg  \n",
      "  inflating: dataset/data/nigerianCurrencies/valid/N200/09.jpg  \n",
      "  inflating: dataset/data/nigerianCurrencies/valid/N200/10.jpg  \n",
      "  inflating: dataset/data/nigerianCurrencies/valid/N200/11.jpg  \n",
      "  inflating: dataset/data/nigerianCurrencies/valid/N200/15.jpg  \n",
      "  inflating: dataset/data/nigerianCurrencies/valid/N200/17.jpg  \n",
      "  inflating: dataset/data/nigerianCurrencies/valid/N200/22.jpg  \n",
      "  inflating: dataset/data/nigerianCurrencies/valid/N200/28.jpg  \n",
      "  inflating: dataset/data/nigerianCurrencies/valid/N200/30.jpg  \n",
      "  inflating: dataset/data/nigerianCurrencies/valid/N200/31.jpg  \n",
      "  inflating: dataset/data/nigerianCurrencies/valid/N200/32.jpg  \n",
      "   creating: dataset/data/nigerianCurrencies/valid/N5/\n",
      "  inflating: dataset/data/nigerianCurrencies/valid/N5/01.jpg  \n",
      "  inflating: dataset/data/nigerianCurrencies/valid/N5/07.jpg  \n",
      "  inflating: dataset/data/nigerianCurrencies/valid/N5/09.jpg  \n",
      "  inflating: dataset/data/nigerianCurrencies/valid/N5/10.jpg  \n",
      "  inflating: dataset/data/nigerianCurrencies/valid/N5/11.jpg  \n",
      "  inflating: dataset/data/nigerianCurrencies/valid/N5/12.jpg  \n",
      "  inflating: dataset/data/nigerianCurrencies/valid/N5/13.jpg  \n",
      "  inflating: dataset/data/nigerianCurrencies/valid/N5/22.jpg  \n",
      "  inflating: dataset/data/nigerianCurrencies/valid/N5/23.jpg  \n",
      "  inflating: dataset/data/nigerianCurrencies/valid/N5/24.jpg  \n",
      "  inflating: dataset/data/nigerianCurrencies/valid/N5/25.jpg  \n",
      "  inflating: dataset/data/nigerianCurrencies/valid/N5/26.jpg  \n",
      "  inflating: dataset/data/nigerianCurrencies/valid/N5/28.jpg  \n",
      "  inflating: dataset/data/nigerianCurrencies/valid/N5/31.jpg  \n",
      "  inflating: dataset/data/nigerianCurrencies/valid/N5/32.jpg  \n",
      "   creating: dataset/data/nigerianCurrencies/valid/N50/\n",
      "  inflating: dataset/data/nigerianCurrencies/valid/N50/01.jpg  \n",
      "  inflating: dataset/data/nigerianCurrencies/valid/N50/02.jpg  \n",
      "  inflating: dataset/data/nigerianCurrencies/valid/N50/05.jpg  \n",
      "  inflating: dataset/data/nigerianCurrencies/valid/N50/06.jpg  \n",
      "  inflating: dataset/data/nigerianCurrencies/valid/N50/10.jpg  \n",
      "  inflating: dataset/data/nigerianCurrencies/valid/N50/11.jpg  \n",
      "  inflating: dataset/data/nigerianCurrencies/valid/N50/14.jpg  \n",
      "  inflating: dataset/data/nigerianCurrencies/valid/N50/15.jpg  \n",
      "  inflating: dataset/data/nigerianCurrencies/valid/N50/19.jpg  \n",
      "  inflating: dataset/data/nigerianCurrencies/valid/N50/21.jpeg  \n",
      "  inflating: dataset/data/nigerianCurrencies/valid/N50/23.jpg  \n",
      "  inflating: dataset/data/nigerianCurrencies/valid/N50/25.jpg  \n",
      "  inflating: dataset/data/nigerianCurrencies/valid/N50/26.jpg  \n",
      "  inflating: dataset/data/nigerianCurrencies/valid/N50/31.jpg  \n",
      "  inflating: dataset/data/nigerianCurrencies/valid/N50/32.jpg  \n",
      "   creating: dataset/data/nigerianCurrencies/valid/N500/\n",
      "  inflating: dataset/data/nigerianCurrencies/valid/N500/01.jpg  \n",
      "  inflating: dataset/data/nigerianCurrencies/valid/N500/03.jpg  \n",
      "  inflating: dataset/data/nigerianCurrencies/valid/N500/08.jpg  \n",
      "  inflating: dataset/data/nigerianCurrencies/valid/N500/09.jpg  \n",
      "  inflating: dataset/data/nigerianCurrencies/valid/N500/10.jpg  \n",
      "  inflating: dataset/data/nigerianCurrencies/valid/N500/14.jpg  \n",
      "  inflating: dataset/data/nigerianCurrencies/valid/N500/16.jpg  \n",
      "  inflating: dataset/data/nigerianCurrencies/valid/N500/18.jpg  \n",
      "  inflating: dataset/data/nigerianCurrencies/valid/N500/19.jpg  \n",
      "  inflating: dataset/data/nigerianCurrencies/valid/N500/23.jpg  \n",
      "  inflating: dataset/data/nigerianCurrencies/valid/N500/24.jpg  \n",
      "  inflating: dataset/data/nigerianCurrencies/valid/N500/25.jpg  \n",
      "  inflating: dataset/data/nigerianCurrencies/valid/N500/27.jpg  \n",
      "  inflating: dataset/data/nigerianCurrencies/valid/N500/31.jpg  \n",
      "  inflating: dataset/data/nigerianCurrencies/valid/N500/32.jpg  \n"
     ]
    }
   ],
   "source": [
    "!mkdir dataset\n",
    "!unzip Currencydata.zip -d dataset/"
   ]
  },
  {
   "cell_type": "markdown",
   "metadata": {
    "colab_type": "text",
    "id": "5j609sJFom_4"
   },
   "source": [
    "Now, lets Preprocess the image data"
   ]
  },
  {
   "cell_type": "code",
   "execution_count": 16,
   "metadata": {
    "colab": {
     "autoexec": {
      "startup": false,
      "wait_interval": 0
     },
     "base_uri": "https://localhost:8080/",
     "height": 141
    },
    "colab_type": "code",
    "executionInfo": {
     "elapsed": 3042,
     "status": "ok",
     "timestamp": 1524206155479,
     "user": {
      "displayName": "Kenechi Dukor",
      "photoUrl": "https://lh3.googleusercontent.com/a/default-user=s128",
      "userId": "106952510859934020651"
     },
     "user_tz": -60
    },
    "id": "SKRt0ey9w7Kc",
    "outputId": "24277826-d5ef-448e-d902-6e3184c26849"
   },
   "outputs": [
    {
     "name": "stdout",
     "output_type": "stream",
     "text": [
      "Collecting tqdm\n",
      "  Downloading https://files.pythonhosted.org/packages/78/bc/de067ab2d700b91717dc5459d86a1877e2df31abfb90ab01a5a5a5ce30b4/tqdm-4.23.0-py2.py3-none-any.whl (42kB)\n",
      "\u001b[K    100% |████████████████████████████████| 51kB 1.9MB/s \n",
      "\u001b[?25hInstalling collected packages: tqdm\n",
      "Successfully installed tqdm-4.23.0\n",
      "\u001b[33mYou are using pip version 9.0.3, however version 10.0.1 is available.\n",
      "You should consider upgrading via the 'pip install --upgrade pip' command.\u001b[0m\n"
     ]
    }
   ],
   "source": [
    "!pip install tqdm"
   ]
  },
  {
   "cell_type": "code",
   "execution_count": 0,
   "metadata": {
    "colab": {
     "autoexec": {
      "startup": false,
      "wait_interval": 0
     }
    },
    "colab_type": "code",
    "collapsed": true,
    "id": "4eAEzQzqoSTu"
   },
   "outputs": [],
   "source": [
    "import numpy as np\n",
    "import cv2\n",
    "import os\n",
    "from random import shuffle # mixing up or currently ordered data that might lead our network astray in training.\n",
    "from tqdm import tqdm      # a nice pretty percentage bar for tasks. Thanks to viewer Daniel BA1/4hler for this suggestion\n",
    "\n",
    "import matplotlib.pyplot as plt\n",
    "%matplotlib inline"
   ]
  },
  {
   "cell_type": "code",
   "execution_count": 19,
   "metadata": {
    "colab": {
     "autoexec": {
      "startup": false,
      "wait_interval": 0
     },
     "base_uri": "https://localhost:8080/",
     "height": 34
    },
    "colab_type": "code",
    "executionInfo": {
     "elapsed": 789,
     "status": "ok",
     "timestamp": 1524206197759,
     "user": {
      "displayName": "Kenechi Dukor",
      "photoUrl": "https://lh3.googleusercontent.com/a/default-user=s128",
      "userId": "106952510859934020651"
     },
     "user_tz": -60
    },
    "id": "HnVgMmk_osoQ",
    "outputId": "b1fd154a-92e4-4695-f4b7-f1d7e5f6f158"
   },
   "outputs": [
    {
     "name": "stdout",
     "output_type": "stream",
     "text": [
      "['train', 'valid', 'sample', 'test1', 'model']\n"
     ]
    }
   ],
   "source": [
    "PATH = \"dataset/data/nigerianCurrencies/\"\n",
    "image_list= os.listdir(PATH)\n",
    "TRAIN_DIR = \"dataset/data/nigerianCurrencies/train\"\n",
    "TEST_DIR = \"dataset/data/nigerianCurrencies/test\"\n",
    "print(image_list)"
   ]
  },
  {
   "cell_type": "code",
   "execution_count": 20,
   "metadata": {
    "colab": {
     "autoexec": {
      "startup": false,
      "wait_interval": 0
     },
     "base_uri": "https://localhost:8080/",
     "height": 194
    },
    "colab_type": "code",
    "executionInfo": {
     "elapsed": 730,
     "status": "ok",
     "timestamp": 1524206203561,
     "user": {
      "displayName": "Kenechi Dukor",
      "photoUrl": "https://lh3.googleusercontent.com/a/default-user=s128",
      "userId": "106952510859934020651"
     },
     "user_tz": -60
    },
    "id": "tPgBuTdEq9Td",
    "outputId": "fcd874a2-a06b-44c6-e1c8-b44a08f617e6"
   },
   "outputs": [
    {
     "data": {
      "text/plain": [
       "['01.jpg',\n",
       " '02.JPG',\n",
       " '03.jpg',\n",
       " '04.jpg',\n",
       " '05.jpg',\n",
       " '06.jpg',\n",
       " '07.jpg',\n",
       " '08.jpg',\n",
       " '09.jpg',\n",
       " '10.jpg']"
      ]
     },
     "execution_count": 20,
     "metadata": {
      "tags": []
     },
     "output_type": "execute_result"
    }
   ],
   "source": [
    "files = !ls {PATH}train/N200 | head\n",
    "files"
   ]
  },
  {
   "cell_type": "code",
   "execution_count": 21,
   "metadata": {
    "colab": {
     "autoexec": {
      "startup": false,
      "wait_interval": 0
     },
     "base_uri": "https://localhost:8080/",
     "height": 264
    },
    "colab_type": "code",
    "executionInfo": {
     "elapsed": 1580,
     "status": "ok",
     "timestamp": 1524206207791,
     "user": {
      "displayName": "Kenechi Dukor",
      "photoUrl": "https://lh3.googleusercontent.com/a/default-user=s128",
      "userId": "106952510859934020651"
     },
     "user_tz": -60
    },
    "id": "rffmlLJQpJIy",
    "outputId": "9c9e5210-3189-4371-c412-4c877eb6bf74"
   },
   "outputs": [
    {
     "name": "stdout",
     "output_type": "stream",
     "text": [
      "(467, 800, 3)\n"
     ]
    },
    {
     "data": {
      "image/png": "[encoded data removed]",
      "text/plain": [
       "<matplotlib.figure.Figure at 0x7f211ac43b00>"
      ]
     },
     "metadata": {
      "tags": []
     },
     "output_type": "display_data"
    }
   ],
   "source": [
    "# this assigns the 2nd image in N200 folder in valid folder to a variable.img = plt.imread(f'{PATH}valid/N200/(files[2])') \n",
    "img = plt.imread(f'{PATH}train/N200/{files[2]}') \n",
    "# this will plot img\n",
    "plt.imshow(img);\n",
    "print(img.shape)"
   ]
  },
  {
   "cell_type": "code",
   "execution_count": 0,
   "metadata": {
    "colab": {
     "autoexec": {
      "startup": false,
      "wait_interval": 0
     }
    },
    "colab_type": "code",
    "collapsed": true,
    "id": "ZX0PBaUrtZbW"
   },
   "outputs": [],
   "source": [
    "sz = (224,224)\n",
    "\n",
    "\n",
    "def centering_image(img):\n",
    "    size = [224,224]\n",
    "    \n",
    "    img_size = img.shape[:2]\n",
    "    \n",
    "    # centering\n",
    "    row = (size[1] - img_size[0]) // 2\n",
    "    col = (size[0] - img_size[1]) // 2\n",
    "    resized = np.zeros(list(size) + [img.shape[2]], dtype=np.uint8)\n",
    "    resized[row:(row + img.shape[0]), col:(col + img.shape[1])] = img\n",
    "\n",
    "    return resized\n",
    "\n",
    "def create_train_set():\n",
    "  x_train = []\n",
    "  for img in tqdm(os.listdir(TRAIN_DIR)):\n",
    "      #label = label_img(img)\n",
    "      paths = os.path.join(TRAIN_DIR, img)          \n",
    "      img = cv2.imread(paths, cv2.IMREAD_GRAYSCALE)\n",
    "      img = cv2.resize(img, sz)\n",
    "      traning_data.append([np.array(img),np])\n",
    "      training_data.append([np.array(img),np.array(label)])\n",
    "  shuffle(training_data)\n",
    "  np.save('train_data.npy', training_data)\n",
    "  return training_data"
   ]
  },
  {
   "cell_type": "code",
   "execution_count": 0,
   "metadata": {
    "colab": {
     "autoexec": {
      "startup": false,
      "wait_interval": 0
     }
    },
    "colab_type": "code",
    "collapsed": true,
    "id": "DxpYbdDfAaaV"
   },
   "outputs": [],
   "source": [
    "def process_test_data():\n",
    "    testing_data = []\n",
    "    for img in tqdm(os.listdir(TEST_DIR)):\n",
    "        path = os.path.join(TEST_DIR,img)\n",
    "        img_num = img.split('.')[0]\n",
    "        img = cv2.imread(path,cv2.IMREAD_GRAYSCALE)\n",
    "        img = cv2.resize(img, (IMG_SIZE,IMG_SIZE))\n",
    "        testing_data.append([np.array(img), img_num])\n",
    "        \n",
    "    shuffle(testing_data)\n",
    "    np.save('test_data.npy', testing_data)\n",
    "    return testing_data\n"
   ]
  },
  {
   "cell_type": "code",
   "execution_count": 31,
   "metadata": {
    "colab": {
     "autoexec": {
      "startup": false,
      "wait_interval": 0
     },
     "base_uri": "https://localhost:8080/",
     "height": 310
    },
    "colab_type": "code",
    "executionInfo": {
     "elapsed": 698,
     "status": "error",
     "timestamp": 1524206736785,
     "user": {
      "displayName": "Kenechi Dukor",
      "photoUrl": "https://lh3.googleusercontent.com/a/default-user=s128",
      "userId": "106952510859934020651"
     },
     "user_tz": -60
    },
    "id": "S4KJoDcHxq9d",
    "outputId": "64797213-3349-4225-dcc6-2d3b704709ef"
   },
   "outputs": [
    {
     "name": "stderr",
     "output_type": "stream",
     "text": [
      "\r",
      "  0%|          | 0/8 [00:00<?, ?it/s]\n"
     ]
    },
    {
     "ename": "error",
     "evalue": "ignored",
     "output_type": "error",
     "traceback": [
      "\u001b[0;31m---------------------------------------------------------------------------\u001b[0m",
      "\u001b[0;31merror\u001b[0m                                     Traceback (most recent call last)",
      "\u001b[0;32m<ipython-input-31-cc9c1cb3084f>\u001b[0m in \u001b[0;36m<module>\u001b[0;34m()\u001b[0m\n\u001b[0;32m----> 1\u001b[0;31m \u001b[0mtrain_data\u001b[0m \u001b[0;34m=\u001b[0m \u001b[0mcreate_train_set\u001b[0m\u001b[0;34m(\u001b[0m\u001b[0;34m)\u001b[0m\u001b[0;34m\u001b[0m\u001b[0m\n\u001b[0m",
      "\u001b[0;32m<ipython-input-30-35b4b76f66fc>\u001b[0m in \u001b[0;36mcreate_train_set\u001b[0;34m()\u001b[0m\n\u001b[1;32m     21\u001b[0m       \u001b[0mpaths\u001b[0m \u001b[0;34m=\u001b[0m \u001b[0mos\u001b[0m\u001b[0;34m.\u001b[0m\u001b[0mpath\u001b[0m\u001b[0;34m.\u001b[0m\u001b[0mjoin\u001b[0m\u001b[0;34m(\u001b[0m\u001b[0mTRAIN_DIR\u001b[0m\u001b[0;34m,\u001b[0m \u001b[0mimg\u001b[0m\u001b[0;34m)\u001b[0m\u001b[0;34m\u001b[0m\u001b[0m\n\u001b[1;32m     22\u001b[0m       \u001b[0mimg\u001b[0m \u001b[0;34m=\u001b[0m \u001b[0mcv2\u001b[0m\u001b[0;34m.\u001b[0m\u001b[0mimread\u001b[0m\u001b[0;34m(\u001b[0m\u001b[0mpaths\u001b[0m\u001b[0;34m,\u001b[0m \u001b[0mcv2\u001b[0m\u001b[0;34m.\u001b[0m\u001b[0mIMREAD_GRAYSCALE\u001b[0m\u001b[0;34m)\u001b[0m\u001b[0;34m\u001b[0m\u001b[0m\n\u001b[0;32m---> 23\u001b[0;31m       \u001b[0mimg\u001b[0m \u001b[0;34m=\u001b[0m \u001b[0mcv2\u001b[0m\u001b[0;34m.\u001b[0m\u001b[0mresize\u001b[0m\u001b[0;34m(\u001b[0m\u001b[0mimg\u001b[0m\u001b[0;34m,\u001b[0m \u001b[0msz\u001b[0m\u001b[0;34m)\u001b[0m\u001b[0;34m\u001b[0m\u001b[0m\n\u001b[0m\u001b[1;32m     24\u001b[0m       \u001b[0mtraning_data\u001b[0m\u001b[0;34m.\u001b[0m\u001b[0mappend\u001b[0m\u001b[0;34m(\u001b[0m\u001b[0;34m[\u001b[0m\u001b[0mnp\u001b[0m\u001b[0;34m.\u001b[0m\u001b[0marray\u001b[0m\u001b[0;34m(\u001b[0m\u001b[0mimg\u001b[0m\u001b[0;34m)\u001b[0m\u001b[0;34m,\u001b[0m\u001b[0mnp\u001b[0m\u001b[0;34m]\u001b[0m\u001b[0;34m)\u001b[0m\u001b[0;34m\u001b[0m\u001b[0m\n\u001b[1;32m     25\u001b[0m       \u001b[0mtraining_data\u001b[0m\u001b[0;34m.\u001b[0m\u001b[0mappend\u001b[0m\u001b[0;34m(\u001b[0m\u001b[0;34m[\u001b[0m\u001b[0mnp\u001b[0m\u001b[0;34m.\u001b[0m\u001b[0marray\u001b[0m\u001b[0;34m(\u001b[0m\u001b[0mimg\u001b[0m\u001b[0;34m)\u001b[0m\u001b[0;34m,\u001b[0m\u001b[0mnp\u001b[0m\u001b[0;34m.\u001b[0m\u001b[0marray\u001b[0m\u001b[0;34m(\u001b[0m\u001b[0mlabel\u001b[0m\u001b[0;34m)\u001b[0m\u001b[0;34m]\u001b[0m\u001b[0;34m)\u001b[0m\u001b[0;34m\u001b[0m\u001b[0m\n",
      "\u001b[0;31merror\u001b[0m: /io/opencv/modules/imgproc/src/resize.cpp:4044: error: (-215) ssize.width > 0 && ssize.height > 0 in function resize\n"
     ]
    }
   ],
   "source": [
    "train_data = create_train_set()"
   ]
  }
 ],
 "metadata": {
  "accelerator": "GPU",
  "colab": {
   "collapsed_sections": [],
   "default_view": {},
   "name": "Naira CNN with Keras.ipynb",
   "provenance": [],
   "version": "0.3.2",
   "views": {}
  },
  "kernelspec": {
   "display_name": "Python 3",
   "language": "python",
   "name": "python3"
  },
  "language_info": {
   "codemirror_mode": {
    "name": "ipython",
    "version": 3
   },
   "file_extension": ".py",
   "mimetype": "text/x-python",
   "name": "python",
   "nbconvert_exporter": "python",
   "pygments_lexer": "ipython3",
   "version": "3.6.2"
  }
 },
 "nbformat": 4,
 "nbformat_minor": 1
}
